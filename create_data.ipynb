{
 "cells": [
  {
   "cell_type": "code",
   "execution_count": 5,
   "metadata": {},
   "outputs": [],
   "source": [
    "import csv\n",
    "\n",
    "def write_to_csv(filename, data):\n",
    "    with open(filename, 'w', newline='') as file:\n",
    "        writer = csv.writer(file)\n",
    "        writer.writerows(data)\n",
    "\n",
    "# Data for the menu table\n",
    "menu_data = [\n",
    "    ['item_id', 'item_name', 'price'],\n",
    "    ['1', 'Linear Regresso Latte', '3.00'],\n",
    "    ['2', 'Croissant', '2.50'],\n",
    "    ['3', 'Smoothie', '4.00'],\n",
    "    ['4', None, '2.00'],\n",
    "    ['5', 'Outlier Omelette', '3.50'] # New item that is not in sales table as no sales have happened\n",
    "]\n",
    "\n",
    "write_to_csv('data/menu.csv', menu_data)\n",
    "\n",
    "\n",
    "# Data for the sales table\n",
    "sales_data = [\n",
    "    ['sale_id', 'item_id', 'sale_date'],\n",
    "    ['1', '1', '2023-10-01'],\n",
    "    ['2', '2', '2023-10-01'],\n",
    "    ['3', '3', '2023-10-02'],\n",
    "    ['4', '1', '2023-10-03'],  \n",
    "    ['5', '4', '2023-10-04'], \n",
    "    ['6', '6', '2023-10-05'] # New sale with item_id that has not yet been added in menu table\n",
    "]\n",
    "\n",
    "write_to_csv('data/sales.csv', sales_data)\n",
    "\n",
    "# Data for the employees table\n",
    "employees_data = [\n",
    "    ['employee_id', 'employee_name', 'manager_id'],\n",
    "    ['1', 'Jiaxuan', '5'],\n",
    "    ['2', 'Ireri', '5'],\n",
    "    ['3', 'Rithvik', '5'],\n",
    "    ['4', 'Bassim', '5'],\n",
    "    ['5', 'Robert', None]  # null value in manager_id as Robert is the big boss\n",
    "]\n",
    "\n",
    "write_to_csv('data/employees.csv', employees_data)"
   ]
  },
  {
   "cell_type": "code",
   "execution_count": null,
   "metadata": {},
   "outputs": [],
   "source": []
  }
 ],
 "metadata": {
  "kernelspec": {
   "display_name": "base",
   "language": "python",
   "name": "python3"
  },
  "language_info": {
   "codemirror_mode": {
    "name": "ipython",
    "version": 3
   },
   "file_extension": ".py",
   "mimetype": "text/x-python",
   "name": "python",
   "nbconvert_exporter": "python",
   "pygments_lexer": "ipython3",
   "version": "3.10.9"
  },
  "orig_nbformat": 4
 },
 "nbformat": 4,
 "nbformat_minor": 2
}
